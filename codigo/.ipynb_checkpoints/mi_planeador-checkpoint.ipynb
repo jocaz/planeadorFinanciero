{
 "cells": [
  {
   "cell_type": "markdown",
   "metadata": {},
   "source": [
    "## Proyecto personal de planeación financiera\n",
    "Planea asignando proporciones de un presupuesto inicial\n",
    "\n",
    "### Definición de clases de gasto y presupuesto"
   ]
  },
  {
   "cell_type": "code",
   "execution_count": 14,
   "metadata": {},
   "outputs": [],
   "source": [
    "#objeto \"chico\"\n",
    "class tipo_gasto:\n",
    "    def __init__(self,nombre,total,proporcion):\n",
    "        self.nombre = nombre\n",
    "        self.presupuesto = total*proporcion\n",
    "        #categorías de gastos del proyecto\n",
    "        self.gastos = dict()\n",
    "        self.disponible = self.presupuesto\n",
    "    #definir gastos dentro de una categoría de gasto\n",
    "    def actualiza_disponible(self):\n",
    "        self.disponible = self.presupuesto - sum(self.gastos.values())\n",
    "    def nuevo_gasto(self,concepto,cantidad):\n",
    "        self.gastos.update({concepto:cantidad})\n",
    "        self.actualiza_disponible()\n",
    "    def quita_gasto(self,concepto):\n",
    "        del self.gasto[concepto]\n",
    "        self.actualiza_disponible()\n",
    "\n",
    "#objeto grande\n",
    "class presupuesto:\n",
    "    def __init__(self,nombre,presupuesto):\n",
    "        self.nombre = nombre\n",
    "        self.presupuesto = presupuesto\n",
    "        self.tipos_gasto = dict()\n",
    "        self.disponible = self.presupuesto\n",
    "    def actualiza_disponible(self):\n",
    "        self.disponible = self.presupuesto*(1-sum(proporciones[1] for proporciones in self.tipos_gasto.values()))\n",
    "    def nuevo_tipo_gasto(self,nombre_gasto,proporcion):\n",
    "        self.tipos_gasto.update({nombre_gasto:[tipo_gasto(nombre_gasto,self.presupuesto,proporcion),proporcion]})\n",
    "        self.actualiza_disponible()\n",
    "    def quita_tipo_gasto(self,nombre_gasto):\n",
    "        del self.tipos_gasto[tipo_gasto]\n",
    "        self.actualiza_disponible()"
   ]
  },
  {
   "cell_type": "markdown",
   "metadata": {},
   "source": [
    "### Funciones para agregar y distribuir las riquezas"
   ]
  },
  {
   "cell_type": "code",
   "execution_count": 25,
   "metadata": {},
   "outputs": [],
   "source": [
    "def agrega_gasto(proyecto,tipo_gasto,concepto,cantidad):\n",
    "    proyecto.tipos_gasto[tipo_gasto][0].nuevo_gasto(concepto,cantidad)\n",
    "    \n",
    "def distribuye(proyecto, donador, receptor, cantidad):\n",
    "    proyecto.tipo_gasto[receptor][0].presupuesto += cantidad\n",
    "    proyecto.tipo_gasto[receptor][0].disponible += cantidad\n",
    "    proyecto.tipo_gasto[donador][0].presupuesto -= cantidad\n",
    "    proyecto.tipo_gasto[donador][0].disponible -= cantidad\n",
    "    "
   ]
  },
  {
   "cell_type": "code",
   "execution_count": 17,
   "metadata": {},
   "outputs": [],
   "source": [
    "#hogar de los proyectos\n",
    "proyectos = dict()\n",
    "\n",
    "#funciones para agregar y quitar proyectos\n",
    "def nuevo_proyecto(nombre,asignado):\n",
    "    proyectos.update({nombre:presupuesto(nombre,asignado)})\n",
    "def quitar_proyecto(nombre):\n",
    "    del proyectos[nombre]"
   ]
  },
  {
   "cell_type": "markdown",
   "metadata": {},
   "source": [
    "### Funciones para exportar e importar proyectos"
   ]
  },
  {
   "cell_type": "code",
   "execution_count": 18,
   "metadata": {},
   "outputs": [],
   "source": [
    "#IMPORTANTE!! solo importar paquetes hechos por ti\n",
    "import pickle\n",
    "\n",
    "def exporta_proyecto(proyecto,nombre_archivo):\n",
    "    with open(nombre_archivo, 'wb') as archivo_proyectos:\n",
    "        pickle.dump(proyecto,archivo_proyectos)\n",
    "\n",
    "def importa_proyecto(nombre_archivo):\n",
    "    with open(nombre_archivo,'rb') as proyecto_archivado:\n",
    "        return pickle.load(proyecto_archivado)"
   ]
  },
  {
   "cell_type": "markdown",
   "metadata": {},
   "source": [
    "### Funciones para crear reportes"
   ]
  },
  {
   "cell_type": "code",
   "execution_count": 31,
   "metadata": {},
   "outputs": [],
   "source": [
    "def crea_reporte(diccionario,proyecto):\n",
    "    print('{:<20} {:<20} {:<20}\\n'.format('Categoría','Presupuesto','Disponible'))\n",
    "    print('========================================================\\n')\n",
    "    for categoria in diccionario[proyecto].tipos_gasto.values():\n",
    "        print('{:<20} {:<20} {:<20}\\n'.format(categoria[0].nombre, categoria[0].presupuesto,categoria[0].disponible))\n",
    "        for gasto in categoria[0].gastos.keys():\n",
    "            print('\\t{:<20} {:<20}\\n'.format(gasto,categoria[0].gastos[gasto]))\n",
    "            print('---------------------------------------')"
   ]
  },
  {
   "cell_type": "code",
   "execution_count": 35,
   "metadata": {},
   "outputs": [],
   "source": [
    "def escribe_reporte(nombre_reporte,diccionario,proyecto):\n",
    "    f = open(nombre_reporte,'w')\n",
    "    f.write('{:<20} {:<20} {:<20}\\n'.format('Categoría','Presupuesto','Disponible'))\n",
    "    f.write('========================================================\\n')\n",
    "    for categoria in diccionario[proyecto].tipos_gasto.values():\n",
    "        f.write('{:<20} {:<20} {:<20}\\n'.format(categoria[0].nombre, categoria[0].presupuesto,categoria[0].disponible))\n",
    "        for gasto in categoria[0].gastos.keys():\n",
    "            f.write('\\t{:<20} {:<20}\\n'.format(gasto,categoria[0].gastos[gasto]))\n",
    "            f.write('---------------------------------------')\n",
    "    f.close()"
   ]
  },
  {
   "cell_type": "markdown",
   "metadata": {},
   "source": [
    "## Ejemplo\n",
    "1. Crear un proyecto con un presupuesto de 30000"
   ]
  },
  {
   "cell_type": "code",
   "execution_count": 20,
   "metadata": {},
   "outputs": [],
   "source": [
    "nuevo_proyecto('Ejemplo',30000)\n",
    "Ejemplo = proyectos['Ejemplo']"
   ]
  },
  {
   "cell_type": "markdown",
   "metadata": {},
   "source": [
    "#### 2. Agregar tipos de gasto:\n",
    "    -Vivienda..........30%\n",
    "    -Transporte........15%\n",
    "    -Ahorro............10%\n",
    "    -Endeudamiento.....20%\n",
    "    -Otros.............25%"
   ]
  },
  {
   "cell_type": "code",
   "execution_count": 21,
   "metadata": {},
   "outputs": [],
   "source": [
    "Ejemplo.nuevo_tipo_gasto('Vivienda',.3)\n",
    "Ejemplo.nuevo_tipo_gasto('Transporte',.15)\n",
    "Ejemplo.nuevo_tipo_gasto('Ahorro',.1)\n",
    "Ejemplo.nuevo_tipo_gasto('Endeudamiento',.2)\n",
    "Ejemplo.nuevo_tipo_gasto('Otros',.25)"
   ]
  },
  {
   "cell_type": "markdown",
   "metadata": {},
   "source": [
    "#### 3. Agrega conceptos de gastos\n",
    "    -Vivienda: renta 8000 servicios 2000\n",
    "    -Transporte: gasolina 700 estacionamiento 400\n",
    "    -Ahorro: acciones acme 1000 alcancía 500\n",
    "    -Endeudamiento ps5 600 teléfono 900\n",
    "    -Otros: tacos 200 cine 350 concierto 2300"
   ]
  },
  {
   "cell_type": "code",
   "execution_count": 26,
   "metadata": {},
   "outputs": [],
   "source": [
    "agrega_gasto(Ejemplo,'Vivienda','renta',8000)\n",
    "agrega_gasto(Ejemplo,'Vivienda','servicios',2000)\n",
    "agrega_gasto(Ejemplo,'Transporte', 'gasolina',700)\n",
    "agrega_gasto(Ejemplo,'Transporte','estacionamiento',400)\n",
    "agrega_gasto(Ejemplo,'Ahorro','acciones acme',1000)\n",
    "agrega_gasto(Ejemplo,'Ahorro','alcancía',500)\n",
    "agrega_gasto(Ejemplo,'Endeudamiento','ps5',600)\n",
    "agrega_gasto(Ejemplo,'Endeudamiento','teléfono',900)\n",
    "agrega_gasto(Ejemplo,'Otros','tacos',200)\n",
    "agrega_gasto(Ejemplo,'Otros','cine',350)\n",
    "agrega_gasto(Ejemplo,'Otros','concierto',2300)"
   ]
  },
  {
   "cell_type": "code",
   "execution_count": 32,
   "metadata": {},
   "outputs": [
    {
     "name": "stdout",
     "output_type": "stream",
     "text": [
      "Categoría            Presupuesto          Disponible          \n",
      "\n",
      "========================================================\n",
      "\n",
      "Vivienda             9000.0               -1000.0             \n",
      "\n",
      "\trenta                8000                \n",
      "\n",
      "---------------------------------------\n",
      "\tservicios            2000                \n",
      "\n",
      "---------------------------------------\n",
      "Transporte           4500.0               3400.0              \n",
      "\n",
      "\tgasolina             700                 \n",
      "\n",
      "---------------------------------------\n",
      "\testacionamiento      400                 \n",
      "\n",
      "---------------------------------------\n",
      "Ahorro               3000.0               1500.0              \n",
      "\n",
      "\tacciones acme        1000                \n",
      "\n",
      "---------------------------------------\n",
      "\talcancía             500                 \n",
      "\n",
      "---------------------------------------\n",
      "Endeudamiento        6000.0               4500.0              \n",
      "\n",
      "\tps5                  600                 \n",
      "\n",
      "---------------------------------------\n",
      "\tteléfono             900                 \n",
      "\n",
      "---------------------------------------\n",
      "Otros                7500.0               4650.0              \n",
      "\n",
      "\ttacos                200                 \n",
      "\n",
      "---------------------------------------\n",
      "\tcine                 350                 \n",
      "\n",
      "---------------------------------------\n",
      "\tconcierto            2300                \n",
      "\n",
      "---------------------------------------\n"
     ]
    }
   ],
   "source": [
    "crea_reporte(proyectos,'Ejemplo')"
   ]
  },
  {
   "cell_type": "code",
   "execution_count": 36,
   "metadata": {},
   "outputs": [],
   "source": [
    "escribe_reporte('mi_preorte.text',proyectos,'Ejemplo')"
   ]
  },
  {
   "cell_type": "code",
   "execution_count": null,
   "metadata": {},
   "outputs": [],
   "source": []
  }
 ],
 "metadata": {
  "kernelspec": {
   "display_name": "Python 3",
   "language": "python",
   "name": "python3"
  },
  "language_info": {
   "codemirror_mode": {
    "name": "ipython",
    "version": 3
   },
   "file_extension": ".py",
   "mimetype": "text/x-python",
   "name": "python",
   "nbconvert_exporter": "python",
   "pygments_lexer": "ipython3",
   "version": "3.8.5"
  }
 },
 "nbformat": 4,
 "nbformat_minor": 4
}
